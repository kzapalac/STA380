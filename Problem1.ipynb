{
 "cells": [
  {
   "cell_type": "code",
   "execution_count": 2,
   "id": "43fc9d45-813d-4ac5-8f31-36b702e48a0e",
   "metadata": {},
   "outputs": [
    {
     "data": {
      "text/html": [
       "# figure out how to hide this cell!\n",
       "<style>\n",
       "    .gray {\n",
       "        background-color: #dfe0e8;\n",
       "    }\n",
       "</style>\n"
      ],
      "text/plain": [
       "<IPython.core.display.HTML object>"
      ]
     },
     "metadata": {},
     "output_type": "display_data"
    }
   ],
   "source": [
    "%%html\n",
    "# figure out how to hide this cell!\n",
    "<style>\n",
    "    .gray {\n",
    "        background-color: #dfe0e8;\n",
    "    }\n",
    "</style>"
   ]
  },
  {
   "cell_type": "markdown",
   "id": "684620f4-7be5-4733-ab78-606dee07bfc6",
   "metadata": {},
   "source": [
    "## Probability Practice"
   ]
  },
  {
   "cell_type": "markdown",
   "id": "eafe2b5f-222a-455c-bc24-0b29e09d851e",
   "metadata": {},
   "source": [
    "<div class=\"gray\">\n",
    "    <strong>Part A.</strong> Visitors to your website are asked to answer a single survey question before they get access to the content on the page. Among all of the users, there are two categories: Random Clicker (RC), and Truthful Clicker (TC). There are two possible answers to the survey: yes and no. Random clickers would click either one with equal probability. You are also giving the information that the expected fraction of random clickers is 0.3. After a trial period, you get the following survey results: 65\\% said Yes and 35\\% said No. What fraction of people who are truthful clickers answered yes?  Hint: use the rule of total probability.\n",
    "</div>"
   ]
  },
  {
   "cell_type": "markdown",
   "id": "e9665ec6-9745-4ecb-95ce-f3d0e4b2789c",
   "metadata": {},
   "source": [
    "Solving for $P(CY | TC)$.\n",
    "\n",
    "Rule of total probability:\n",
    "$$\n",
    "P(A) = \\sum_{i=1}^{N}A \\cap B_i = \\sum_{i=1}^{N}P(B_i)P(A | B_i)\n",
    "$$\n",
    "$$\n",
    "P(B_i,B_j) = 0 \\,\\,\\,(i \\neq j)\n",
    "$$\n",
    "$$\n",
    "\\sum_{i=1}^{N}P(B_i)=1\n",
    "$$\n",
    "\n",
    "Note: I'm using CY as shorthand for click yes and CN as shorthand for click no\n",
    "Given:\n",
    "- $P(CY | RC) = 0.5$ and $P(CN | RC) = 0.5$\n",
    "- $P(RC) = 0.3$ and $P(TC) = 0.7$\n",
    "- $P(CY)=0.65$ and $P(CN)=.35$\n",
    "\n",
    "$$\n",
    "P(CY | TC) = \\frac{P(CY \\cap TC)}{P(TC)}\n",
    "$$\n",
    "\n",
    "Need to determine $P(CY \\cap TC)$ by using total probability theorem.\n",
    "\n",
    "$$\n",
    "P(CY) = P(CY \\cap RC) + P(CY \\cap TC)\n",
    "$$\n",
    "$$\n",
    "P(CY \\cap TC) = P(CY) - P(CY \\cap RC) = P(CY) - P(RC)P(CY | RC) = 0.65 - 0.3(0.5) = 0.5\n",
    "$$\n",
    "\n",
    "$$\n",
    "P(CY | TC) = \\frac{P(CY \\cap TC)}{P(TC)} = \\frac{0.5}{0.7} = 71.4%\n",
    "$$\n",
    "\n",
    "71.4% of the people who are truthful clickers click yes."
   ]
  },
  {
   "cell_type": "markdown",
   "id": "d8007b3b-11e3-4d89-82cc-65cf9d07e8c6",
   "metadata": {},
   "source": [
    "<div class=\"gray\">\n",
    "    <strong>Part B.</strong> Imagine a medical test for a disease with the following two attributes:\n",
    "\n",
    "- The sensitivity is about 0.993. That is, if someone has the disease, there is a probability of 0.993 that they will test positive.  \n",
    "- The specificity is about 0.9999. This means that if someone doesn't have the disease, there is probability of 0.9999 that they will test negative.  \n",
    "- In the general population, incidence of the disease is reasonably rare: about 0.0025% of all people have it (or 0.000025 as a decimal probability).</span>\n",
    "\n",
    "Suppose someone tests positive. What is the probability that they have the disease?\n",
    "</div>"
   ]
  },
  {
   "cell_type": "markdown",
   "id": "3164b1ba-451f-4d75-b7b2-18eaba857d54",
   "metadata": {},
   "source": [
    "Note:\n",
    "- TP = Test postivie\n",
    "- TN = Test negative\n",
    "- D = disease\n",
    "- $D^c$ = no disease\n",
    "\n",
    "The givens are:\n",
    "- $P(TP|D) = 0.993$\n",
    "- $P(TN|D^c) = 0.9999$\n",
    "- $P(D) = 0.000025$\n",
    "- $P(D^c) = 1 - P(D) = 0.999975$\n",
    "\n",
    "Find P(D|TP)\n",
    "\n",
    "I know:\n",
    "$$\n",
    "P(D|TP) = \\frac{P(D \\cap TP)}{P(TP)} = \\frac{P(TP|D) \\, P(D)}{P(TP)} = \\frac{0.993\\,(0.000025)}{?}\n",
    "$$\n",
    "\n",
    "I have to solve for P(TP) before I can finish filling in this equation.\n",
    "\n",
    "$$\n",
    "P(TP) = P(TP \\cap D) + P(TP \\cap D^c) = P(TP|D)\\,P(D) + P(TP|D^c)\\,P(D^c)\n",
    "$$\n",
    "\n",
    "I have everything except for $P(TP|D^c)$ in the given information, but this can easily be derived by:\n",
    "$P(TP|D^c) = 1 - P(TN|D^c) = 1 - 0.9999 = 0.0001$\n",
    "\n",
    "Therefore:\n",
    "$$\n",
    "P(TP) = P(TP \\cap D) + P(TP \\cap D^c) = 0.993\\,(0.000025) + 0.0001\\,(0.999975) = 0.0001248225$\n",
    "$$\n",
    "\n",
    "Finally,\n",
    "$$\n",
    "P(D|TP) = \\frac{P(D \\cap TP)}{P(TP)} = \\frac{P(TP|D) \\, P(D)}{P(TP)} = \\frac{0.993\\,(0.000025)}{0.0001248225} = 0.19888\n",
    "$$\n",
    "\n",
    "Given that someone tests positive, they have a 19.89% of actually having the disease."
   ]
  }
 ],
 "metadata": {
  "kernelspec": {
   "display_name": "Python 3 (ipykernel)",
   "language": "python",
   "name": "python3"
  },
  "language_info": {
   "codemirror_mode": {
    "name": "ipython",
    "version": 3
   },
   "file_extension": ".py",
   "mimetype": "text/x-python",
   "name": "python",
   "nbconvert_exporter": "python",
   "pygments_lexer": "ipython3",
   "version": "3.12.4"
  }
 },
 "nbformat": 4,
 "nbformat_minor": 5
}
