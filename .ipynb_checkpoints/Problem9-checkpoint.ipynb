{
 "cells": [
  {
   "cell_type": "code",
   "execution_count": null,
   "id": "ad8ee048-cd5d-4d67-871d-1b432a5b5c07",
   "metadata": {},
   "outputs": [],
   "source": [
    "%%html\n",
    "<style>\n",
    "    .gray {\n",
    "        background-color: #dfe0e8;\n",
    "    }\n",
    "</style>"
   ]
  },
  {
   "cell_type": "markdown",
   "id": "c0b8eb1e-58cb-48a2-83d6-a91218c8cd34",
   "metadata": {},
   "source": [
    "# Image Classification with Neural Networks"
   ]
  },
  {
   "cell_type": "markdown",
   "id": "944d308b-4c8e-4d5b-be04-cfe632cf6dff",
   "metadata": {},
   "source": [
    "<div class=\"gray\">\n",
    "In this problem, you will train a neural network to classify satellite images. In the data/EuroSAT_RGB\n",
    "(https://github.com/jgscott/STA380/tree/master/data/EuroSAT_RGB) directory, you will find 11 subdirectories,\n",
    "each corresponding to a different class of land or land use: e.g. industrial, crops, rivers, forest, etc. Within each\n",
    "subdirectory, you will find examples in .jpg format of each type. (Thus the name of the directory in which the\n",
    "image lives is the class label.)\n",
    "\n",
    "Your job is to set up a neural network that can classify the images as accurately as possible. Use an 80/20 train\n",
    "test split. Summarize your model and its accuracy in any way you see fit, but make you include at a minimum the\n",
    "following elements:\n",
    "- overall test-set accuracy, measured however you think is appropriate\n",
    "- show some of the example images from the test set, together with your model’s predicted classes.\n",
    "- a confusion matrix showing the performance of the model on the set test, i.e. a table that cross-tabulates\n",
    "each test set example by (actual class, predicted class).\n",
    "\n",
    "I strongly recommend the use of PyTorch in a Jupyter notebook for this problem; look into PyTorch’s\n",
    "ImageFolder data set class, which will streamline things considerably.\n",
    "</div>"
   ]
  },
  {
   "cell_type": "code",
   "execution_count": null,
   "id": "46a0ddb6-ffbd-48be-85da-85992a1f2eec",
   "metadata": {},
   "outputs": [],
   "source": [
    "# import necessary libraries\n",
    "import numpy as np\n",
    "import pandas as pd\n",
    "import matplotlib.pyplot as plt\n",
    "import seaborn as sns"
   ]
  }
 ],
 "metadata": {
  "kernelspec": {
   "display_name": "Python 3 (ipykernel)",
   "language": "python",
   "name": "python3"
  },
  "language_info": {
   "codemirror_mode": {
    "name": "ipython",
    "version": 3
   },
   "file_extension": ".py",
   "mimetype": "text/x-python",
   "name": "python",
   "nbconvert_exporter": "python",
   "pygments_lexer": "ipython3",
   "version": "3.12.4"
  }
 },
 "nbformat": 4,
 "nbformat_minor": 5
}
